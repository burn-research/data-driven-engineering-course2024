{
 "cells": [
  {
   "cell_type": "markdown",
   "id": "bf3bc600",
   "metadata": {},
   "source": [
    "# Demo code\n",
    "This is a demo code for try the environment"
   ]
  },
  {
   "cell_type": "markdown",
   "id": "b3c4c322",
   "metadata": {},
   "source": [
    "First we import the modules"
   ]
  },
  {
   "cell_type": "code",
   "execution_count": 5,
   "id": "bc086586",
   "metadata": {},
   "outputs": [],
   "source": [
    "# Import modules\n",
    "import numpy as np\n",
    "import matplotlib.pyplot as plt\n"
   ]
  },
  {
   "cell_type": "markdown",
   "id": "eb4c9f16",
   "metadata": {},
   "source": [
    "Now we can write our demo code\n",
    "It should print \"Hello world\""
   ]
  },
  {
   "cell_type": "code",
   "execution_count": 3,
   "id": "37e39937",
   "metadata": {},
   "outputs": [
    {
     "name": "stdout",
     "output_type": "stream",
     "text": [
      "Hello world\n"
     ]
    }
   ],
   "source": [
    "print(\"Hello world\")"
   ]
  }
 ],
 "metadata": {
  "kernelspec": {
   "display_name": "Python 3 (ipykernel)",
   "language": "python",
   "name": "python3"
  },
  "language_info": {
   "codemirror_mode": {
    "name": "ipython",
    "version": 3
   },
   "file_extension": ".py",
   "mimetype": "text/x-python",
   "name": "python",
   "nbconvert_exporter": "python",
   "pygments_lexer": "ipython3",
   "version": "3.9.18"
  }
 },
 "nbformat": 4,
 "nbformat_minor": 5
}
