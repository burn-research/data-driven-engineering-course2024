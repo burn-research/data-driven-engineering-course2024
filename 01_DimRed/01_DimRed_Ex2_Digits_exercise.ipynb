{
 "cells": [
  {
   "cell_type": "markdown",
   "id": "c4cca6f6",
   "metadata": {},
   "source": [
    "# 01_DimRed_Ex2 : PCA\n",
    "\n",
    "## Exercise extra: Digits\n",
    "The goal of the exercise is to perform PCA on a dataset containing hand-written digits. \n",
    "The dataset contains 1797 8x8 images of digits in the range 0-9.\n",
    "How can PCA help in the recognition of different digits?"
   ]
  },
  {
   "cell_type": "markdown",
   "id": "4daf0945",
   "metadata": {},
   "source": [
    "1. Load the data and show first image"
   ]
  },
  {
   "cell_type": "code",
   "execution_count": null,
   "id": "95cac338",
   "metadata": {},
   "outputs": [],
   "source": [
    "import numpy as np\n",
    "import matplotlib.pyplot as plt\n",
    "from sklearn.datasets import load_digits\n",
    "\n",
    "digits_images = load_digits().data  # images dataset size 1767x64\n",
    "digits_labels = load_digits().target # images labels size 1767\n",
    "\n",
    "print(digits_images.shape) #check the dimensions"
   ]
  },
  {
   "cell_type": "code",
   "execution_count": null,
   "id": "f1b08c90",
   "metadata": {},
   "outputs": [],
   "source": [
    "# select the index of the digit to show\n",
    "index = 0\n",
    "Npix = 8 \n",
    "# select the image and reshape it to show it\n",
    "digit = digits_images[index,:].reshape(Npix,Npix)\n",
    "plt.imshow(digit, cmap='Greys')\n",
    "plt.xticks(np.linspace(0, 7, 8))\n",
    "plt.yticks(np.linspace(0, 7, 8))\n",
    "plt.show()\n",
    "\n",
    "# print the label corresponding to the image\n",
    "print(f'Image index: {digits_labels[index]}')"
   ]
  },
  {
   "cell_type": "markdown",
   "id": "287c681f",
   "metadata": {},
   "source": [
    " - Perform PCA using sklearn decomposition (see exercise on Eigenfaces)\n",
    " - Obtain A, Z"
   ]
  },
  {
   "cell_type": "code",
   "execution_count": null,
   "id": "b468119c",
   "metadata": {},
   "outputs": [],
   "source": [
    "# PCA\n",
    "# We import the PCA object from the sklearn package\n",
    "from sklearn.decomposition import PCA\n",
    "\n",
    "# ...\n",
    "\n",
    "# We calculate the matrix A, which contains the directions of the PCs\n",
    "#A = ..\n",
    "\n",
    "# Then we calculate the PCA scores as Z = X A\n",
    "# Z = ..\n"
   ]
  },
  {
   "cell_type": "markdown",
   "id": "56c5a9e5",
   "metadata": {},
   "source": [
    "To be sure that we have perfomed well the PCA, let's\n",
    " - Plot explained variance and cumulative explained variance\n",
    " - Plot first 3 PCs"
   ]
  },
  {
   "cell_type": "code",
   "execution_count": null,
   "id": "16bb60bd",
   "metadata": {},
   "outputs": [],
   "source": [
    "# We use the attributes of PCA to find the explained variance in percentage\n",
    "# variance_ratio =  ...\n",
    "\n",
    "# ... FIGURE \n",
    "\n",
    "# We can plot the first 3 PCs \n",
    "n_pcs = 3\n",
    "\n",
    "\n",
    "# ... FIGURE"
   ]
  },
  {
   "cell_type": "markdown",
   "id": "d7bd5a64",
   "metadata": {},
   "source": [
    "### Physical interpretability of PCA\n",
    "Optional: Show how the PC scores can be used to cluster the data by plotting the first two vectors of the PC scores (Z)."
   ]
  },
  {
   "cell_type": "code",
   "execution_count": null,
   "id": "e1989353",
   "metadata": {},
   "outputs": [],
   "source": [
    "# Uncomment the lines below after you have calculated Z \n",
    "\n",
    "#fig, ax = plt.subplots(figsize=(8,5))\n",
    "#im = ax.scatter(Z[:,0], Z[:,1], c=digits_labels, cmap=plt.cm.get_cmap('tab10', 10), alpha=0.5)\n",
    "#fig.colorbar(im)\n",
    "#plt.show()"
   ]
  }
 ],
 "metadata": {
  "kernelspec": {
   "display_name": "Python 3 (ipykernel)",
   "language": "python",
   "name": "python3"
  },
  "language_info": {
   "codemirror_mode": {
    "name": "ipython",
    "version": 3
   },
   "file_extension": ".py",
   "mimetype": "text/x-python",
   "name": "python",
   "nbconvert_exporter": "python",
   "pygments_lexer": "ipython3",
   "version": "3.9.18"
  }
 },
 "nbformat": 4,
 "nbformat_minor": 5
}
