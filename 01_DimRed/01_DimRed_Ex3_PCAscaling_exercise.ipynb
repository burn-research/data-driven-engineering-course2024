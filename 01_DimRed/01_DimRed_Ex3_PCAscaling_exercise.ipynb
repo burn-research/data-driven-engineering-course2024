{
 "cells": [
  {
   "cell_type": "markdown",
   "metadata": {},
   "source": [
    "# 01_DimRed_Ex3 : PCA\n",
    "\n",
    "## Exercise 3: Data scaling\n",
    "\n",
    "The goal of this exercise is to explore how data scaling affects the PCA projection.\n",
    "\n",
    "In general the data matrix, $\\mathbf{X}$, can be centered and scaled as follows:\n",
    "\n",
    "$$\n",
    "\\tilde{\\mathbf{X}} = (\\mathbf{X} - \\mathbf{C}) \\mathbf{D}^{-1}\n",
    "$$\n",
    "\n",
    "where $\\mathbf{C}$ is a matrix of centers and $\\mathbf{D}$ is a diagonal matrix of scales. We will denote the $i$th variable in a dataset as $X_i$.\n",
    "\n",
    "The matrix of centers is populated by the mean values of each variable:\n",
    "\n",
    "$$\n",
    "\\begin{gather}\n",
    "\\mathbf{C} = \n",
    "\\begin{bmatrix}\n",
    "c_1 & c_2 &  \\dots & c_n \\\\\n",
    "c_1 & c_2 &  \\dots & c_n \\\\\n",
    "c_1 & c_2 & \\dots & c_n \\\\\n",
    "\\vdots \\\\\n",
    "c_1 & c_2 & \\dots & c_n \\\\\n",
    "\\end{bmatrix}\n",
    "\\end{gather}\n",
    "$$\n",
    "\n",
    "where $c_i = mean(X_i)$.\n",
    "\n",
    "In contrast, the diagonal of the matrix of scales can be populated in many different ways. In general, we can write:\n",
    "\n",
    "$$\n",
    "\\begin{gather}\n",
    "\\mathbf{D} = \n",
    "\\begin{bmatrix}\n",
    "d_1 & 0 & 0 & 0 & 0 & \\dots & 0 \\\\\n",
    "0 & d_2 & 0 & 0 & 0 & \\dots & 0 \\\\\n",
    "0 & 0 & d_3 & 0 & 0 & \\dots & 0 \\\\\n",
    "\\vdots \\\\\n",
    "0 & 0 & 0 & 0 & 0 & \\dots & d_n \\\\\n",
    "\\end{bmatrix}\n",
    "\\end{gather}\n",
    "$$\n",
    "\n",
    "where $d_i$ is the scaling factor applied on the $i$th variable $X_i$.\n",
    "\n",
    "In this exercise, we will explore three ways of scaling the data:\n",
    "\n",
    "- No scaling, where:\n",
    "\n",
    "$$\n",
    "d_i = 1\n",
    "$$\n",
    "\n",
    "- Standard (auto) scaling, where:\n",
    "\n",
    "$$\n",
    "d_i = std(X_i)\n",
    "$$\n",
    "\n",
    "- VAriable STability (VAST) scaling, where:\n",
    "\n",
    "$$\n",
    "d_i = std(X_i)^2 / mean(X_i)\n",
    "$$\n",
    "\n",
    "\n",
    "\n",
    "**Note, that `sklearn`'s PCA always centers the data, but does not scale the data! You have to handle the scaling by yourself.**\n",
    "\n",
    "***"
   ]
  },
  {
   "cell_type": "code",
   "execution_count": null,
   "metadata": {},
   "outputs": [],
   "source": [
    "import numpy as np\n",
    "import matplotlib.pyplot as plt\n",
    "import pandas as pd\n",
    "from sklearn.decomposition import PCA\n",
    "\n",
    "%matplotlib inline"
   ]
  },
  {
   "cell_type": "markdown",
   "metadata": {},
   "source": [
    "We will use the wine dataset, which has 178 observations and 13 variables. "
   ]
  },
  {
   "cell_type": "code",
   "execution_count": null,
   "metadata": {},
   "outputs": [],
   "source": [
    "from sklearn.datasets import load_wine\n",
    "\n",
    "wine_data = load_wine().data\n",
    "feature_names  = load_wine().feature_names\n",
    "n_features     = len(feature_names)"
   ]
  },
  {
   "cell_type": "markdown",
   "metadata": {},
   "source": [
    "There are three distinct wine classes in the data, and we can access the classification of each wine observation:"
   ]
  },
  {
   "cell_type": "code",
   "execution_count": null,
   "metadata": {},
   "outputs": [],
   "source": [
    "wine_target = load_wine().target\n",
    "target_names = load_wine().target_names"
   ]
  },
  {
   "cell_type": "code",
   "execution_count": null,
   "metadata": {},
   "outputs": [],
   "source": [
    "print(f'wine_data shape    = {wine_data.shape}')\n",
    "print(f'Feature names      = {feature_names[0:3]} ...')\n",
    "print(f'n_features         = {n_features} \\n')\n",
    "\n",
    "print(f'Wine_target shape  = {wine_target.shape}')\n",
    "print(f'Target names       = {target_names}')\n",
    "print(f'len(target_names)  = {len(target_names)}')"
   ]
  },
  {
   "cell_type": "markdown",
   "metadata": {},
   "source": [
    "We will compute PCA using all 13 principal components:"
   ]
  },
  {
   "cell_type": "code",
   "execution_count": null,
   "metadata": {},
   "outputs": [],
   "source": [
    "n_components = 13"
   ]
  },
  {
   "cell_type": "markdown",
   "metadata": {},
   "source": [
    "## PCA with no data scaling"
   ]
  },
  {
   "cell_type": "markdown",
   "metadata": {},
   "source": [
    "We can inspect the wine data sets when variables are not scaled. For this purpose, the `pandas` library is very useful. We can show 10 first rows of the data matrix.\n",
    "\n",
    "You can see that different wine parameters have different numerical ranges:"
   ]
  },
  {
   "cell_type": "code",
   "execution_count": null,
   "metadata": {},
   "outputs": [],
   "source": [
    "df = pd.DataFrame(wine_data, columns=feature_names)\n",
    "df.head(10)"
   ]
  },
  {
   "cell_type": "markdown",
   "metadata": {},
   "source": [
    "Perform the PCA transformation of the `wine_data` when no scaling is applied to the data and compute the eigenvectors and eigenvalues:\n",
    " - To do: \n",
    "     - obtain X0 (dataset without preproccessing)\n",
    "     - compute pca_0 : \n",
    "         - L0 = eigenvalues\n",
    "         - A0 = eigenvectors\n",
    "         - Z0 = PC scores"
   ]
  },
  {
   "cell_type": "code",
   "execution_count": null,
   "metadata": {},
   "outputs": [],
   "source": [
    "#pca_0 = PCA(n_components=n_components)\n",
    "\n",
    "# X0 = ...\n",
    "\n",
    "# Complete the PCA steps..."
   ]
  },
  {
   "cell_type": "markdown",
   "metadata": {},
   "source": [
    "Visualize the two-dimensional PCA projection of the data set. Color the projection by the three classes as per `wine_target`:"
   ]
  },
  {
   "cell_type": "code",
   "execution_count": null,
   "metadata": {},
   "outputs": [],
   "source": [
    "fig = plt.figure(figsize=(10,5))\n",
    "\n",
    "# Create a scatter plot of the projection\n",
    "#scat = plt.scatter( ... )\n",
    "plt.colorbar(scat, ticks= # ... )\n",
    "#plt.xlabel( ... )\n",
    "#plt.ylabel( ... )\n",
    "#plt.show()"
   ]
  },
  {
   "cell_type": "markdown",
   "metadata": {},
   "source": [
    "## PCA with standard (auto) scaling"
   ]
  },
  {
   "cell_type": "markdown",
   "metadata": {},
   "source": [
    "Center and scale the data using standard (auto) scaling, according to the formula given at the top of the notebook.\n",
    "\n",
    "Hint: Python's `numpy` library allows you to subtract, add, multiply or divide each column of a data matrix simply by specifying a vector of values.\n",
    "\n",
    "For instance, if you want to access a mean value of each data **column**, you can write:\n",
    "\n",
    "```\n",
    "np.mean(X, axis=0)\n",
    "```\n",
    "\n",
    "If you want to access a mean value of each data **row**, you can write:\n",
    "\n",
    "```\n",
    "np.mean(X, axis=1)\n",
    "```\n",
    "\n",
    "Both `np.mean(X, axis=0)` and `np.mean(X, axis=1)` are vectors, not a matrices! The parameter `axis` controls along which axis of the data you want the value to be computed. \n",
    "\n",
    "In the cell below, remember to use the `axis` parameter correctly!\n",
    "\n",
    "\n",
    " - To do: \n",
    "     - obtain X_std (dataset preprocessed with mean and STD)\n",
    "     - inspect the first 10 rows of the wine data after scaling"
   ]
  },
  {
   "cell_type": "code",
   "execution_count": null,
   "metadata": {},
   "outputs": [],
   "source": [
    "# X_std = \n",
    "\n",
    "# Inspect the scaled data set\n",
    "\n",
    "# ..."
   ]
  },
  {
   "cell_type": "markdown",
   "metadata": {},
   "source": [
    "Perform the PCA transformation of the `wine_data` when standard (auto) scaling is applied to the data and compute the new eigenvectors and eigenvalues:\n",
    "- To do: \n",
    "     - compute pca_std : \n",
    "         - L_std = eigenvalues\n",
    "         - A_std = eigenvectors\n",
    "         - Z_std = PC scores"
   ]
  },
  {
   "cell_type": "code",
   "execution_count": null,
   "metadata": {},
   "outputs": [],
   "source": [
    "# pca_std = PCA(n_components=n_components)\n",
    "\n",
    "# Complete the PCA steps..."
   ]
  },
  {
   "cell_type": "markdown",
   "metadata": {},
   "source": [
    "Visualize the two-dimensional PCA projection of the data set. Color the projection by the three classes as per `wine_target`. What changes?"
   ]
  },
  {
   "cell_type": "code",
   "execution_count": null,
   "metadata": {},
   "outputs": [],
   "source": [
    "fig = plt.figure(figsize=(10,5))\n",
    "\n",
    "# Create a scatter plot of the projection\n",
    "\n",
    "#scat = plt.scatter( ... )\n",
    "plt.colorbar(scat, ticks= # ... )\n",
    "#plt.xlabel( ... )\n",
    "#plt.ylabel( ... )\n",
    "#plt.show()"
   ]
  },
  {
   "cell_type": "markdown",
   "metadata": {},
   "source": [
    "## PCA with VAST scaling"
   ]
  },
  {
   "cell_type": "markdown",
   "metadata": {},
   "source": [
    "Center and scale the data using VAST scaling, according to the formula given at the top of the notebook."
   ]
  },
  {
   "cell_type": "code",
   "execution_count": null,
   "metadata": {},
   "outputs": [],
   "source": [
    "# X_vast = \n",
    "\n",
    "\n",
    "# Inspect the scaled data set\n",
    "\n",
    "# ..."
   ]
  },
  {
   "cell_type": "markdown",
   "metadata": {},
   "source": [
    "Perform the PCA transformation of the `wine_data` when VAST scaling is applied to the data and compute the new eigenvectors and eigenvalues:\n",
    "\n",
    "- To do: \n",
    "     - compute pca_vast : \n",
    "         - L_vast = eigenvalues\n",
    "         - A_vast = eigenvectors\n",
    "         - Z_vast = PC scores"
   ]
  },
  {
   "cell_type": "code",
   "execution_count": null,
   "metadata": {},
   "outputs": [],
   "source": [
    "# pca_vast = PCA(n_components=n_components)\n",
    "\n",
    "# Complete the PCA steps..."
   ]
  },
  {
   "cell_type": "markdown",
   "metadata": {},
   "source": [
    "Visualize the two-dimensional PCA projection of the data set. Color the projection by the three classes as per `wine_target`. What changes?"
   ]
  },
  {
   "cell_type": "code",
   "execution_count": null,
   "metadata": {},
   "outputs": [],
   "source": [
    "fig = plt.figure(figsize=(10,5))\n",
    "\n",
    "# Create a scatter plot of the projection\n",
    "#scat = plt.scatter( ... )\n",
    "plt.colorbar(scat, ticks= # ... )\n",
    "#plt.xlabel( ... )\n",
    "#plt.ylabel( ... )\n",
    "#plt.show()"
   ]
  },
  {
   "cell_type": "markdown",
   "metadata": {},
   "source": [
    "## Compare the eigenvectors\n",
    "\n",
    "Now, we are going to visualize the eigenvectors resulting from no scaling, standard (auto) scaling and VAST scaling.\n",
    "\n",
    "We are going to use the `pyplot`'s `bar` function which helps us generate bar plots. You can use this template to plot the eigenvectors:\n",
    "\n",
    "```\n",
    "plt.bar(x_ticks, height, width=bar_width, color='k', label='Scaling')\n",
    "```\n",
    "\n",
    "Where `x_ticks` specifies the locations on the x-axis where the bars will be plotted, and `height` specifies the height for each bar.\n",
    "\n",
    "Also plot the legend that explains which eigenvector result from which data scaling option."
   ]
  },
  {
   "cell_type": "code",
   "execution_count": null,
   "metadata": {},
   "outputs": [],
   "source": [
    "# The x_ticks parameter will help you label the x-axis:\n",
    "x_ticks = np.array([i for i in range(0,n_features)])\n",
    "\n",
    "# The bar_width parameter controls the width of each bar on the bar plot:\n",
    "bar_width = 0.2\n",
    "\n",
    "# Since we are going to compute three bar plots on one plot, we will offset the bar plots so that they are easier to visualize:\n",
    "offset = 0.2"
   ]
  },
  {
   "cell_type": "markdown",
   "metadata": {},
   "source": [
    " - To do:\n",
    "     - Plot the comparison of the **first** eigenvector from the three data scaling options:"
   ]
  },
  {
   "cell_type": "code",
   "execution_count": null,
   "metadata": {},
   "outputs": [],
   "source": [
    "fig = plt.figure(figsize=(10,3))\n",
    "\n",
    "# Create a bar plot for no scaling\n",
    "# Create a bar plot for standard (auto) scaling\n",
    "# Create a bar plot for VAST scaling\n",
    "\n",
    "plt.xticks(x_ticks, wine_names, rotation=90)\n",
    "plt.ylabel('First eigenvector weights')\n",
    "plt.grid(alpha=0.2)\n",
    "plt.legend()\n",
    "plt.show()"
   ]
  },
  {
   "cell_type": "markdown",
   "metadata": {},
   "source": [
    " - To do:\n",
    "     - Plot the comparison of the **second** eigenvector from the three data scaling options:"
   ]
  },
  {
   "cell_type": "code",
   "execution_count": null,
   "metadata": {},
   "outputs": [],
   "source": [
    "fig = plt.figure(figsize=(10,3))\n",
    "\n",
    "# Create a bar plot for no scaling\n",
    "# Create a bar plot for standard (auto) scaling\n",
    "# Create a bar plot for VAST scaling\n",
    "\n",
    "plt.xticks(x_ticks, wine_names, rotation=90)\n",
    "plt.ylabel('Second eigenvector weights')\n",
    "plt.grid(alpha=0.2)\n",
    "plt.legend()"
   ]
  },
  {
   "cell_type": "markdown",
   "metadata": {},
   "source": [
    "## Compare the eigenvalues\n",
    "\n",
    "Finally, we are going to visualize the scree plot of eigenvalues resulting from no scaling, standard (auto) scaling and VAST scaling.\n",
    "\n",
    "Remember to also plot the legend that explains which eigenvalues result from which data scaling option.\n",
    "\n",
    "What differences do you observe?"
   ]
  },
  {
   "cell_type": "code",
   "execution_count": null,
   "metadata": {},
   "outputs": [],
   "source": [
    "fig = plt.figure(figsize=(10,3))\n",
    "\n",
    "# Create a line plot for no scaling\n",
    "# Create a line plot for standard (auto) scaling\n",
    "# Create a line plot for VAST scaling\n",
    "\n",
    "plt.xticks(x_ticks+1)\n",
    "plt.xlabel('Number of components')\n",
    "plt.ylabel('Eigenvalue')\n",
    "plt.legend()\n",
    "plt.show()"
   ]
  },
  {
   "cell_type": "markdown",
   "metadata": {},
   "source": [
    "Final tip: if you'd like to save the plots that you produced, you can add the following command after plotting:\n",
    "\n",
    "```\n",
    "plt.savefig('figure.png', dpi=200, bbox_inches='tight')\n",
    "```\n",
    "\n",
    "You can also control the file extension, e.g. you can save the plot to `.pdf` format instead of `.png`:\n",
    "\n",
    "```\n",
    "plt.savefig('figure.pdf', dpi=200, bbox_inches='tight')\n",
    "```"
   ]
  },
  {
   "cell_type": "markdown",
   "metadata": {},
   "source": [
    "***"
   ]
  }
 ],
 "metadata": {
  "kernelspec": {
   "display_name": "Python 3 (ipykernel)",
   "language": "python",
   "name": "python3"
  },
  "language_info": {
   "codemirror_mode": {
    "name": "ipython",
    "version": 3
   },
   "file_extension": ".py",
   "mimetype": "text/x-python",
   "name": "python",
   "nbconvert_exporter": "python",
   "pygments_lexer": "ipython3",
   "version": "3.9.18"
  }
 },
 "nbformat": 4,
 "nbformat_minor": 4
}
