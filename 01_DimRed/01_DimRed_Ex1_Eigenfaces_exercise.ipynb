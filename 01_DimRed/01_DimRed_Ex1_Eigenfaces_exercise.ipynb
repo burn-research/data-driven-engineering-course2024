{
 "cells": [
  {
   "cell_type": "markdown",
   "id": "9d6faa05",
   "metadata": {},
   "source": [
    "# 01_DimRed_Ex1 : PCA\n",
    "\n",
    "## Exercise 1: Face images\n",
    "\n",
    "The goal of the exercise is to perform PCA on a dataset containing face images\n",
    "The dataset contains 400 64x64 images of human faces.\n",
    "How can PCA help in reconstructing faces?"
   ]
  },
  {
   "cell_type": "markdown",
   "id": "bb0476ae",
   "metadata": {},
   "source": [
    "In the first cell we import the libraries that we are going to use and the digits dataset."
   ]
  },
  {
   "cell_type": "code",
   "execution_count": null,
   "id": "1d3a35b9",
   "metadata": {},
   "outputs": [],
   "source": [
    "import numpy as np\n",
    "import matplotlib.pyplot as plt\n",
    "from sklearn.datasets import fetch_olivetti_faces\n",
    "\n",
    "face_images= fetch_olivetti_faces().images\n",
    "print(face_images.shape) #check the dimensions\n"
   ]
  },
  {
   "cell_type": "markdown",
   "id": "ef04079a",
   "metadata": {},
   "source": [
    "We can also plot the digits, but first we need to reshape it in a 8x8 image."
   ]
  },
  {
   "cell_type": "code",
   "execution_count": null,
   "id": "65dbbf22",
   "metadata": {},
   "outputs": [],
   "source": [
    "# select the index of the digit to show\n",
    "index = 0\n",
    "\n",
    "# select the image and reshape it to show it\n",
    "face = face_images[index,:]\n",
    "plt.title(f'Face number = {index}')\n",
    "plt.imshow(face, cmap='Greys')\n",
    "plt.xticks(np.linspace(0, 63, 8))\n",
    "plt.yticks(np.linspace(0, 63, 8))\n",
    "\n",
    "plt.show()"
   ]
  },
  {
   "cell_type": "markdown",
   "id": "d9f8075d",
   "metadata": {},
   "source": [
    "For convenience, please define the number of images of faces as **Nfaces** and the number of pixeles as **Npix**\n",
    "\n",
    "We also need to reshape the matrix face_images for be able to apply PCA on it (it will be our new \"X\"): it will be called **face_X**"
   ]
  },
  {
   "cell_type": "code",
   "execution_count": null,
   "id": "5f2ff90b",
   "metadata": {},
   "outputs": [],
   "source": [
    "#Nfaces  = ...\n",
    "#Npix    = ... \n",
    "#print(f'Nfaces = {Nfaces}')\n",
    "#print(f'Npix   = {Npix}')\n",
    "\n",
    "# face_X = face_images.reshape(  ... \n",
    "# print(face_X.shape)"
   ]
  },
  {
   "cell_type": "markdown",
   "id": "9622e44f",
   "metadata": {},
   "source": [
    "##  Implement PCA\n",
    "Now, we write a function to **implement the PCA algorithm**. Conventionally, the mean is removed from the dataset before applying PCA. If this is not done, the mean will be the first PC."
   ]
  },
  {
   "cell_type": "code",
   "execution_count": null,
   "id": "ced340c1",
   "metadata": {},
   "outputs": [],
   "source": [
    "# define the PCA function\n",
    "\n",
    "# ...\n",
    "# ...\n",
    "\n",
    "# Uncomment when you have defined the function PCA\n",
    "# A, Z, l = PCA(face_X)"
   ]
  },
  {
   "cell_type": "code",
   "execution_count": null,
   "id": "ed09a48f",
   "metadata": {},
   "outputs": [],
   "source": [
    "# Uncomment when you have perfomed PCA\n",
    "\n",
    "#fig, ax = plt.subplots(figsize=(4,4))\n",
    "#ax.scatter(np.linspace(1,Npix**2, Npix**2), l)\n",
    "#ax.set_title('PCA eigenvalues')\n",
    "#plt.xlim([0,Npix**2])\n",
    "#plt.xlabel('PC number')\n",
    "#plt.ylabel('Eigenvalues')\n",
    "#plt.show()"
   ]
  },
  {
   "cell_type": "markdown",
   "id": "339237db",
   "metadata": {},
   "source": [
    "##  Use PCA from scikit-learn package \n",
    "Now, we can perform PCA using the scikit-learn package and plot the explained variance of the resulting PCs.\n",
    "\n",
    "hint: the documentation and examples to use the PCA object are at:\n",
    "https://scikit-learn.org/stable/modules/generated/sklearn.decomposition.PCA.html)\n"
   ]
  },
  {
   "cell_type": "code",
   "execution_count": 1,
   "id": "de7dbe02",
   "metadata": {},
   "outputs": [],
   "source": [
    "# We import the PCA object from the sklearn package\n",
    "# from sklearn.decomposition import PCA\n",
    "\n",
    "# To do: show the explained variance ratio as a function of the principal components\n",
    "\n",
    "# hint: the documentation and examples to use the PCA object are at:\n",
    "# https://scikit-learn.org/stable/modules/generated/sklearn.decomposition.PCA.html)\n"
   ]
  },
  {
   "cell_type": "markdown",
   "id": "3a185b6c",
   "metadata": {},
   "source": [
    "We can also retrieve the PCs (A), and calculate the PC scores (Z)."
   ]
  },
  {
   "cell_type": "code",
   "execution_count": null,
   "id": "c208dcb4",
   "metadata": {},
   "outputs": [],
   "source": [
    "# We calculate the matrix A, which contains the directions of the PCs\n",
    "# hint: A is equal to the transpose of the attribute \"components_\" of the PCA object and Z = X A\n",
    "\n",
    "# A = ....\n",
    "\n",
    "# PC scores : Z = X A\n",
    "\n",
    "# Z = ....\n",
    "\n",
    "\n",
    "## uncomment this lines to show the eigenfaces:\n",
    "## We can plot the first 5 PCs \n",
    "#n_pcs = 5\n",
    "#fig, axs = plt.subplots(1,n_pcs, figsize=(3*n_pcs, 3))\n",
    "#for i, ax in enumerate(axs):\n",
    "#    ax.imshow(A[:,i].reshape(Npix,Npix), cmap='Greys')\n",
    "#    ax.set_title('PC ' + str(i+1))\n"
   ]
  },
  {
   "cell_type": "markdown",
   "id": "bb0f918a",
   "metadata": {},
   "source": [
    "##### Test PCA as a reduced-order model (ROM)\n",
    "We can also check if we can use PCA to achieve dimensionality reduction. This means that we can reconstructed the digits using few PCs.\n",
    "\n",
    "- To do:\n",
    "    1. reconstruct the face number 10 using the first 10 PCs, and compare it to the original\n",
    "    2. reconstruct the same face with 1,5, 10, 100, 200 and 400 PCs. Compare the solution\n",
    "    \n",
    "    \n",
    "- #hint: X_reconstructed = Zq Aq.T "
   ]
  },
  {
   "cell_type": "code",
   "execution_count": 5,
   "id": "d25452f5",
   "metadata": {},
   "outputs": [],
   "source": [
    "# Reconstruct face number 10 with first 10 PCs\n",
    "# Compare solution with 1,5,10,100,200,400 PCs\n",
    "\n",
    "# ...\n",
    "# ...\n",
    "# ...\n",
    "# ...\n",
    "# ...\n",
    "# ..."
   ]
  },
  {
   "cell_type": "markdown",
   "id": "6f681255",
   "metadata": {},
   "source": [
    "#### Canonical basis vs PCs\n",
    "Explain what is the difference between using the canonical basis and the PCs to express the images, and why we can reduce the dimensionality with PCA and not with the canonical basis. \n",
    "\n",
    "#### - Canonical basis\n",
    "How does this work? In the canonical basis, the image is the sum of some weights multiplied by the canonical basis:\n",
    "\\begin{equation}\n",
    "    \\mathbf{x} = \\sum_{i=1}^{m} w_i \\mathbf{b}_i\n",
    "\\end{equation}\n",
    "\n",
    "- To do: \n",
    " 1. Define the canonical basis $\\mathbf{B}=[\\mathbf{b}_1, \\cdots \\mathbf{b}_m]$\n",
    " 2. Obtain the weights $w_i$ of the first 4 directions (n_basis=4)\n",
    " 3. Show how the first 4 basis vectors look like ($b_i$)"
   ]
  },
  {
   "cell_type": "code",
   "execution_count": 6,
   "id": "c374443e",
   "metadata": {},
   "outputs": [],
   "source": [
    "## index = ...\n",
    "## face  = ...\n",
    "\n",
    "## What are the weights?\n",
    "\n",
    "## plot of the first 4 basis vectors b_i\n"
   ]
  },
  {
   "cell_type": "markdown",
   "id": "9f167750",
   "metadata": {},
   "source": [
    "    4. Plot original face VS reconstruction with 100 PCs"
   ]
  },
  {
   "cell_type": "code",
   "execution_count": 6,
   "id": "b94e77c5",
   "metadata": {},
   "outputs": [],
   "source": [
    "## q= 100\n",
    "## index  = 10\n",
    "\n",
    "## face_orig = \n",
    "## face_rec = \n",
    "\n",
    "## Plot them side by side\n"
   ]
  },
  {
   "cell_type": "markdown",
   "id": "1212c819",
   "metadata": {},
   "source": [
    "#### - PCA basis\n",
    "How does this work? In the PCA basis, the image is the sum of some weights multiplied by the PC basis:\n",
    "\\begin{equation}\n",
    "    \\mathbf{x} = \\sum_{i=1}^{m} z_i \\mathbf{a}_i\n",
    "\\end{equation}\n",
    "\n",
    "- To do: \n",
    " 1. PC basis already defined:  $\\mathbf{A}=[\\mathbf{a}_1, \\cdots \\mathbf{a}_m]$\n",
    " 2. Weights already known too:  $z_i$ \n",
    " 3. Show how the first 4 basis vectors look like ($a_i$)\n",
    " \n",
    "Hint: \n",
    "\n",
    "    in the canonical basis X[0,:] = W[0,:] @ B.T\n",
    "    \n",
    "    while with PCA it is   X[0,:] = Z[0,:] @ A.T   "
   ]
  },
  {
   "cell_type": "code",
   "execution_count": 8,
   "id": "7aca9a70",
   "metadata": {},
   "outputs": [],
   "source": [
    "## index = ...\n",
    "## face  = ...\n",
    "\n",
    "## What are the weights?\n",
    "\n",
    "## plot of the first 4 basis vectors a_i\n"
   ]
  }
 ],
 "metadata": {
  "kernelspec": {
   "display_name": "Python 3 (ipykernel)",
   "language": "python",
   "name": "python3"
  },
  "language_info": {
   "codemirror_mode": {
    "name": "ipython",
    "version": 3
   },
   "file_extension": ".py",
   "mimetype": "text/x-python",
   "name": "python",
   "nbconvert_exporter": "python",
   "pygments_lexer": "ipython3",
   "version": "3.9.18"
  }
 },
 "nbformat": 4,
 "nbformat_minor": 5
}
