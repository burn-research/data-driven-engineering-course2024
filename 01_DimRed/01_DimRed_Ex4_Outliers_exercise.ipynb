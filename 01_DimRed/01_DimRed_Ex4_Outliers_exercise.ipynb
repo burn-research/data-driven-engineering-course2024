{
 "cells": [
  {
   "cell_type": "markdown",
   "id": "9d6faa05",
   "metadata": {},
   "source": [
    "# 01_DimRed_Ex4 : PCA\n",
    "\n",
    "## Exercise 4: Outlier detection\n",
    "\n",
    "The goal of the exercise is to use PCA to detect the outlier on a toy dataset."
   ]
  },
  {
   "cell_type": "code",
   "execution_count": 1,
   "id": "da7e5678",
   "metadata": {},
   "outputs": [],
   "source": [
    "# First we import the libraries \n",
    "import numpy as np\n",
    "import matplotlib.pyplot as plt\n",
    "import sklearn as sk"
   ]
  },
  {
   "cell_type": "markdown",
   "id": "d0a59c61",
   "metadata": {},
   "source": [
    " ## Dataset \n",
    " \n",
    " ###  Dataset creation\n",
    " The toy dataset is a matrix that contains 2 features ($x$ and $y$) and 100 samples. \n",
    " \n",
    " For the first 95 samples, $x_{\\mathrm{true}}$ is in the range $[0, 10]$ and $y_{\\mathrm{true}} = 4x + 2 + \\epsilon_{\\mathrm{true}}$, where $\\epsilon_{\\mathrm{true}}$ is Gaussian noise with $\\mu_{\\mathrm{true}} = 0 $ and $\\sigma_{\\mathrm{true}} = 2.5$\n",
    " \n",
    " The last 5 points are outliers with $x_{\\mathrm{out}}$ is in the range $[2, 3]$ and $y_{\\mathrm{out}} = 3 x^2 + x + 10 + \\epsilon_{\\mathrm{out}}$, where $\\epsilon_{\\mathrm{out}}$ is Gaussian noise with $\\mu_{\\mathrm{out}} = 0 $ and $\\sigma_{\\mathrm{out}} = 5$\n",
    " \n",
    " - To do:\n",
    "      - Create n_true = 95 samples with \n",
    "               - x_true in range [0 ,10] and \n",
    "               - y_true = 4*x_true + 2 + noise_true\n",
    "      - Create n_outl =  5 samples with:\n",
    "               - x_outl in range [2 , 3] \n",
    "               - y_outl = 3*x_outl**2 + x_outl + 10 + noise_outl\n",
    "               \n",
    " - Hint:\n",
    "     - to create a evenly spaced array, you can use the function `np.linspace(start, stop, n_points)`\n",
    "     - to create the noise array, you can use the function `np.random.normal(mu, sigma, size=n_points)`\n",
    "     - We set a fixed seed for random sampling so that the same result is obtained when re-running the code: `np.random.seed(1)`\n"
   ]
  },
  {
   "cell_type": "code",
   "execution_count": 2,
   "id": "1d3a35b9",
   "metadata": {},
   "outputs": [],
   "source": [
    "# n_true = ...\n",
    "# n_outl = ...\n",
    "\n",
    "# Fixed seed for random sampling\n",
    "np.random.seed(1) \n",
    "\n",
    "\n",
    "# create noise_true and noise_outl\n",
    "# ...\n",
    "\n",
    "# create x_true and y_true\n",
    "# ...\n",
    "\n",
    "# create x_outl and y_outl\n",
    "# ...\n",
    "\n",
    "# # Uncomment to plot\n",
    "# fig, ax = plt.subplots(figsize=(6,4))\n",
    "# ax.scatter(x_true, y_true, c='b', label='true')\n",
    "# ax.scatter(x_outl, y_outl, c='r', label='outliers')\n",
    "# ax.set_xlabel('x')\n",
    "# ax.set_ylabel('y')\n",
    "# ax.legend()\n",
    "# plt.show()"
   ]
  },
  {
   "cell_type": "markdown",
   "id": "d056885f",
   "metadata": {},
   "source": [
    " ### Arrange dataset\n",
    "Now that we have computed the correct values and the outliers, we have to put them in a single dataset, so that we simulate a dataset that has been corrupted with outliers.\n",
    "\n",
    " - To do: \n",
    "     - Create an empty matrix $\\mathbf{M_0}$ of size (n, 2), where $n = n_{\\mathrm{true}} + n_{\\mathrm{outl}}$\n",
    "     - Insert the true and outliers values in the matrix, using column 0 for x and column 1 for y\n",
    "         \\begin{gather}\n",
    "            \\mathbf{M_0} = \n",
    "            \\begin{bmatrix}\n",
    "            x_1 & y_1 \\\\\n",
    "            x_2 & y_2  \\\\\n",
    "            \\vdots \\\\\n",
    "            x_N & y_N \\\\\n",
    "            \\end{bmatrix}\n",
    "            \\end{gather}\n",
    "               \n",
    " - Hint:\n",
    "     - You can use the function `np.empty((n, 2)` to create an empty matrix\n",
    "     - You can use `np.concatenate([a, b]` to concatenate two vectors called a and b"
   ]
  },
  {
   "cell_type": "code",
   "execution_count": null,
   "id": "4d2cde16",
   "metadata": {},
   "outputs": [],
   "source": [
    "# Create an empty matrix M0\n",
    "# ...\n",
    "\n",
    "# Insert x in column 0 and y in column 1 for both datasets (true +outl)\n",
    "# ...\n",
    "# ...\n",
    "\n",
    "# # Uncomment to plot\n",
    "# fig, ax = plt.subplots(figsize=(6,4))\n",
    "# ax.scatter(M0[:,0], M0[:,1], c='b')\n",
    "# ax.set_xlabel('x')\n",
    "# ax.set_ylabel('y')\n",
    "# plt.show()"
   ]
  },
  {
   "cell_type": "markdown",
   "id": "4d2c431e",
   "metadata": {},
   "source": [
    " ## PCA\n",
    " \n",
    " ### Perform PCA\n",
    "\n",
    "Now we need to perform PCA on the data matrix, and we use the implementation on the scikit-learn library.\n",
    "Before doing PCA, we center and scale the matrix (you can try and see what happens if you don't do it).\n",
    "\n",
    "- To do:\n",
    "    - Center and scale (from matrix $\\mathbf{M_0}$ to $\\mathbf{M}$)  :\n",
    "        - To center, subtract the mean of each column from each column\n",
    "        - To scale, divide each column of the centered matrix by the standard deviation of each column\n",
    "    - Perform PCA\n",
    "    - Compute the eigenvalues, eigenvectors, PC scores\n",
    "    - Plot the scores\n",
    "    - What happens if we dont center and scale?"
   ]
  },
  {
   "cell_type": "code",
   "execution_count": 3,
   "id": "0cac2ec8",
   "metadata": {},
   "outputs": [],
   "source": [
    "from sklearn.decomposition import PCA\n",
    "\n",
    "# center and scale\n",
    "# ...\n",
    "\n",
    "# perform PCA\n",
    "# ...\n",
    "\n",
    "\n",
    "# compute eigenvalues, eigenvectors, PC scores\n",
    "# ...\n",
    "\n",
    "# Plot the scores\n",
    "# ..."
   ]
  },
  {
   "cell_type": "markdown",
   "id": "72fa8e44",
   "metadata": {},
   "source": [
    " ### Build a classifier from PCA\n",
    "To find the outliers, we build a classifier using the 2nd PC. To do that, we compute the empirical cumulative distribution function (ecdf) of PC scores squared divided by the corresponding eigenvalue (Mahalanobis distance):\n",
    "\n",
    "\\begin{equation}\n",
    "d_{i, 2} = \\frac{z^2_{i,2}}{l_2}\n",
    "\\end{equation}\n",
    "\n",
    "\\begin{equation}\n",
    "\\mathrm{edfc}(T) = \\frac{ \\sum_{i = 1}^k d_{i,2} < T }{k}\n",
    "\\end{equation}\n",
    "\n",
    "- To do:\n",
    "    - Calculate the Mahalanobis distance using PC2 \n",
    "    - Compute the cumulative distribution\n",
    "    - Set a threshold ($T$)"
   ]
  },
  {
   "cell_type": "code",
   "execution_count": 4,
   "id": "fd597472",
   "metadata": {},
   "outputs": [],
   "source": [
    "# Calculate Mahalanobis distance \n",
    "# d_PC2 = ...\n",
    "\n",
    "# Compute the cumulative distribution\n",
    "def ecdf(x):\n",
    "    i_sort = np.argsort(x)\n",
    "    x_sort = x[i_sort]\n",
    "    y_sort = np.arange(1, x_sort.size+1)/x_sort.size\n",
    "    return i_sort, x_sort, y_sort\n",
    "\n",
    "# i_sort, x_sort, y_sort = ecdf(d_PC2)\n",
    "\n",
    "# # Set a threshold\n",
    "# T = 0\n",
    "\n",
    "# # Uncomment to plot\n",
    "# fig, ax = plt.subplots(figsize=(6,4))\n",
    "# ax.scatter(x_sort, y_sort, c='b', s=10)\n",
    "# ax.set_xlabel('Scores of PC 2')\n",
    "# ax.set_ylabel('Distribution')\n",
    "# ax.hlines(T, x_sort.min(), x_sort.max(), color='r')\n",
    "# plt.show()"
   ]
  },
  {
   "cell_type": "markdown",
   "id": "1531bb63",
   "metadata": {},
   "source": [
    " ### Identify the outliers from PCA\n",
    "From the cumulative distribution, we can define the points above a certain threshold as outliers.\n",
    " - To do:\n",
    "     - Apply the threshold to find the outliers\n",
    " - Hint: create a mask:\n",
    "     - `mask = a >b` create a boolean array that follows the condition we impose. That is, true for each point $a_i > b_i$ and false for $a_i <= b_i$\n",
    "     - `a[mask]`  will return the values of a that satisfy the condition imposed\n",
    "     - `a[~mask]` will return the values of a that DON'T  satisfy the condition imposed"
   ]
  },
  {
   "cell_type": "code",
   "execution_count": null,
   "id": "5815ce9f",
   "metadata": {},
   "outputs": [],
   "source": [
    "# Example of how to use a mask\n",
    "\n",
    "a = np.array([ 5, 6, -1 , -2, 0])\n",
    "\n",
    "mask_a= a > 0\n",
    "\n",
    "a_true  = a[mask_a]\n",
    "a_false = a[~mask_a]\n",
    "\n",
    "print(f'     a  = {a}\\n')\n",
    "print(f'mask_a  = {mask_a}')\n",
    "print(f'a_true  = {a_true}')\n",
    "print(f'a_false = {a_false}')"
   ]
  },
  {
   "cell_type": "code",
   "execution_count": 5,
   "id": "b3b99cd3",
   "metadata": {},
   "outputs": [],
   "source": [
    "# # Uncomment to find the outliers\n",
    "# T= 0.95\n",
    "# mask = y_sort > T\n",
    "\n",
    "# fig, ax = plt.subplots(figsize=(6,4))\n",
    "# ax.scatter(M0[i_sort[~mask], 0], M0[i_sort[~mask], 1], c='b', label='correct')\n",
    "# ax.scatter(M0[i_sort[mask], 0] , M0[i_sort[mask], 1] , c='r', label='outliers')\n",
    "# ax.set_xlabel('x')\n",
    "# ax.set_ylabel('y')\n",
    "# ax.legend()\n",
    "# plt.show()"
   ]
  }
 ],
 "metadata": {
  "kernelspec": {
   "display_name": "Python 3 (ipykernel)",
   "language": "python",
   "name": "python3"
  },
  "language_info": {
   "codemirror_mode": {
    "name": "ipython",
    "version": 3
   },
   "file_extension": ".py",
   "mimetype": "text/x-python",
   "name": "python",
   "nbconvert_exporter": "python",
   "pygments_lexer": "ipython3",
   "version": "3.9.18"
  }
 },
 "nbformat": 4,
 "nbformat_minor": 5
}
