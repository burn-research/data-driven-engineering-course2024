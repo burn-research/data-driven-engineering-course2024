{
 "cells": [
  {
   "cell_type": "markdown",
   "metadata": {},
   "source": [
    "# Exercises on data clustering and local PCA\n",
    "\n",
    "## Exercise Extra: \n",
    "\n",
    "The goal of this exercise is to explore K-Means and VQPCA clustering of a combustion dataset.\n",
    "\n",
    "***"
   ]
  },
  {
   "cell_type": "code",
   "execution_count": null,
   "metadata": {},
   "outputs": [],
   "source": [
    "import numpy as np\n",
    "import matplotlib.pyplot as plt\n",
    "import pandas as pd\n",
    "from sklearn.cluster import KMeans\n",
    "from sklearn.decomposition import PCA\n",
    "\n",
    "%matplotlib inline"
   ]
  },
  {
   "cell_type": "markdown",
   "metadata": {},
   "source": [
    "In this exercise, we use a combustion dataset which represents combustion of hydrogen in air.\n",
    "\n",
    "Below, we load the dataset, $\\mathbf{X}$, composed of 9 variables (columns):\n",
    "\n",
    "$$\n",
    "\\begin{gather}\n",
    "\\mathbf{X} = \n",
    "\\begin{bmatrix}\n",
    "\\vdots & \\vdots & \\vdots & \\vdots & \\vdots & \\vdots & \\vdots & \\vdots & \\vdots \\\\\n",
    "T & Y_{H} & Y_{H_2} & Y_{O} & Y_{OH} & Y_{H_2O} & Y_{O_2} & Y_{HO_2} & Y_{H_2O_2} \\\\\n",
    "\\vdots & \\vdots & \\vdots & \\vdots & \\vdots & \\vdots & \\vdots & \\vdots & \\vdots \\\\\n",
    "\\end{bmatrix}\n",
    "\\end{gather}\n",
    "$$\n",
    "\n",
    "The first variable in the dataset is temperature, $T$, and the remaining variables are mass fractions, $Y$, of different chemical species.\n",
    "\n",
    "The dataset has 13,650 observations (rows)."
   ]
  },
  {
   "cell_type": "code",
   "execution_count": null,
   "metadata": {},
   "outputs": [],
   "source": [
    "X = pd.read_csv('H2-air-X.csv', sep = ',', header=None).to_numpy()\n",
    "X = X[:,0:-3]"
   ]
  },
  {
   "cell_type": "code",
   "execution_count": null,
   "metadata": {},
   "outputs": [],
   "source": [
    "X.shape"
   ]
  },
  {
   "cell_type": "markdown",
   "metadata": {},
   "source": [
    "We also load names for all of the variables in $\\mathbf{X}$. "
   ]
  },
  {
   "cell_type": "code",
   "execution_count": null,
   "metadata": {},
   "outputs": [],
   "source": [
    "X_names = pd.read_csv('H2-air-X-names.csv', sep = ',', header=None).to_numpy().ravel()\n",
    "X_names = X_names[0:-3]"
   ]
  },
  {
   "cell_type": "code",
   "execution_count": null,
   "metadata": {},
   "outputs": [],
   "source": [
    "X_names"
   ]
  },
  {
   "cell_type": "markdown",
   "metadata": {},
   "source": [
    "We also load two additional quantities that will be helpful.\n",
    "\n",
    "The first one is called *mixture fraction*, it represents the local stoichiometry of the flame at every observation in the dataset:"
   ]
  },
  {
   "cell_type": "code",
   "execution_count": null,
   "metadata": {},
   "outputs": [],
   "source": [
    "mixture_fraction = pd.read_csv('H2-air-mixture-fraction.csv', sep = ',', header=None).to_numpy()"
   ]
  },
  {
   "cell_type": "code",
   "execution_count": null,
   "metadata": {},
   "outputs": [],
   "source": [
    "mixture_fraction.shape"
   ]
  },
  {
   "cell_type": "markdown",
   "metadata": {},
   "source": [
    "The second one is called the *heat release rate*, it's a measurement of the amount of heat released in the combustion process corresponding to every observation in the dataset:"
   ]
  },
  {
   "cell_type": "code",
   "execution_count": null,
   "metadata": {},
   "outputs": [],
   "source": [
    "heat_release_rate = pd.read_csv('H2-air-heat-release-rate.csv', sep = ',', header=None).to_numpy()"
   ]
  },
  {
   "cell_type": "code",
   "execution_count": null,
   "metadata": {},
   "outputs": [],
   "source": [
    "heat_release_rate.shape"
   ]
  },
  {
   "cell_type": "markdown",
   "metadata": {},
   "source": [
    "***\n",
    "\n",
    "## Clustering the dataset with K-Means"
   ]
  },
  {
   "cell_type": "markdown",
   "metadata": {},
   "source": [
    "We are going to find clusters in the dataset using K-Means clustering technique. The documentation of the K-Means algorithm implementation can be found [here](https://scikit-learn.org/stable/modules/generated/sklearn.cluster.KMeans.html).\n",
    "\n",
    "First, we need to preprocess the dataset. Center and scale the dataset $\\mathbf{X}$ using Auto (standard) scaling in a similar way to what we've done in the previous exercise:"
   ]
  },
  {
   "cell_type": "code",
   "execution_count": null,
   "metadata": {},
   "outputs": [],
   "source": [
    "# X_std = "
   ]
  },
  {
   "cell_type": "markdown",
   "metadata": {},
   "source": [
    "Perform clustering of the centered and scaled dataset $\\mathbf{X}$ into 4 clusters:"
   ]
  },
  {
   "cell_type": "code",
   "execution_count": null,
   "metadata": {},
   "outputs": [],
   "source": [
    "# Complete the K-Means clustering steps:\n",
    "\n",
    "# kmeans_X = \n",
    "# idx_kmeans_X = "
   ]
  },
  {
   "cell_type": "markdown",
   "metadata": {},
   "source": [
    "Visualize the result of clustering in the mixture fraction and temperature space:"
   ]
  },
  {
   "cell_type": "code",
   "execution_count": null,
   "metadata": {},
   "outputs": [],
   "source": [
    "fig = plt.figure(figsize=(20,5))\n",
    "\n",
    "# Create a scatter plot of the clustering solution: Temperature Vs Mixture Fraction\n",
    "\n",
    "# ...\n",
    "\n",
    "plt.xlabel('Mixture fraction [-]', fontsize=20)\n",
    "plt.ylabel('Temperature [K]', fontsize=20)\n",
    "plt.colorbar(scat, ticks=[0,1,2,3]);"
   ]
  },
  {
   "cell_type": "markdown",
   "metadata": {},
   "source": [
    "Next, we are going to create another clustering solution for comparison. This time, we will run K-Means clustering on the heat release rate variable only.\n",
    "\n",
    "First, let's visualize how the heat release rate (HRR) variable looks like in the mixture fraction and temperature space. \n",
    "- To do:\n",
    "    - Create a scatter plot of mixture fraction versus temperature, and color it with heat release rate.\n",
    "    - Use the colormap called `'inferno'` for a nicer visualization (in `plt.scatter` add `cmap='inferno'`."
   ]
  },
  {
   "cell_type": "code",
   "execution_count": null,
   "metadata": {},
   "outputs": [],
   "source": [
    "fig = plt.figure(figsize=(20,5))\n",
    "\n",
    "# Create a scatter plot Temperature Vs Mixture Fraction colored by HRR\n",
    "\n",
    "plt.xlabel('Mixture fraction [-]', fontsize=20)\n",
    "plt.ylabel('Temperature [K]', fontsize=20)\n",
    "plt.colorbar(scat);"
   ]
  },
  {
   "cell_type": "markdown",
   "metadata": {},
   "source": [
    "From the plot above, you see that there is one localized region, where the heat release rate is the highest. Outside of that region, it is zero or close to zero, meaning that combustion is not occuring."
   ]
  },
  {
   "cell_type": "markdown",
   "metadata": {},
   "source": [
    "Now, perform K-Means clustering if the heat release rate into 4 clusters. Note, that since we now cluster based on a single variable (one vector), it doesn't matter if we scale the vector or not."
   ]
  },
  {
   "cell_type": "code",
   "execution_count": null,
   "metadata": {},
   "outputs": [],
   "source": [
    "# Complete the K-Means clustering steps:\n",
    "\n",
    "# kmeans_HRR = \n",
    "# idx_HRR = "
   ]
  },
  {
   "cell_type": "markdown",
   "metadata": {},
   "source": [
    "Visualize the result of clustering in the mixture fraction and temperature space:"
   ]
  },
  {
   "cell_type": "code",
   "execution_count": null,
   "metadata": {},
   "outputs": [],
   "source": [
    "fig = plt.figure(figsize=(20,5))\n",
    "\n",
    "# Create a scatter plot of the clustering solution\n",
    "\n",
    "plt.xlabel('Mixture fraction [-]', fontsize=20)\n",
    "plt.ylabel('Temperature [K]', fontsize=20)\n",
    "plt.colorbar(scat, ticks=[0,1,2,3]);"
   ]
  },
  {
   "cell_type": "markdown",
   "metadata": {},
   "source": [
    "What do you observe? Can you relate the clusters to different values of the heat release rate variable from the plot you generated earlier?"
   ]
  },
  {
   "cell_type": "markdown",
   "metadata": {},
   "source": [
    "***\n",
    "\n",
    "## Clustering the dataset with VQPCA\n",
    "\n",
    "Below, we are going to also find clustering solution with VQPCA and compare it with the K-Means clustering obtained before.\n",
    "\n",
    "We are going to use the VQPCA implementation from the [OpenMORe package](https://github.com/burn-research/OpenMORe).\n",
    "\n",
    "We import the OpenMORe package and fill in the settings, where you can for instance set how the dataset should be centered and scaled, how many clusters, $k$, you want to create and how many eigenvectors (PCs), $q$, should be used in the cluster reconstruction at each iteration."
   ]
  },
  {
   "cell_type": "code",
   "execution_count": null,
   "metadata": {},
   "outputs": [],
   "source": [
    "import OpenMORe.clustering as clustering"
   ]
  },
  {
   "cell_type": "code",
   "execution_count": null,
   "metadata": {},
   "outputs": [],
   "source": [
    "clustering_settings = {\n",
    "    #centering and scaling options\n",
    "    \"center\"                    : True,\n",
    "    \"centering_method\"          : \"mean\",\n",
    "    \"scale\"                     : True,\n",
    "    \"scaling_method\"            : \"auto\",\n",
    "\n",
    "    #set the initialization method (random, observations, kmeans, pkcia, uniform)\n",
    "    \"initialization_method\"     : \"uniform\",\n",
    "\n",
    "    #set the number of clusters and PCs in each cluster\n",
    "    \"number_of_clusters\"        : 4,\n",
    "    \"number_of_eigenvectors\"    : 2,\n",
    "\n",
    "    #enable additional options:\n",
    "    \"correction_factor\"         : \"off\",    # --> enable eventual corrective coefficients for the LPCA algorithm:\n",
    "                                            #     'off', 'c_range', 'uncorrelation', 'local_variance', 'phc_multi', 'local_skewness' are available\n",
    "\n",
    "    \"classify\"                  : False,    # --> call the method to classify a new matrix Y on the basis of the lpca clustering\n",
    "    \"write_on_txt\"              : False,     # --> write the idx vector containing the label for each observation\n",
    "    \"evaluate_clustering\"       : False,     # --> enable the calculation of indeces to evaluate the goodness of the clustering\n",
    "\n",
    "    #improve the clustering solution via kNN\n",
    "    \"kNN_post\"                  : False,     # activate the kNN algorithm once the convergence is achieved\n",
    "    \"neighbors_number\"          : 2,       # set the number of neighbors that has to be taken into account\n",
    "}"
   ]
  },
  {
   "cell_type": "markdown",
   "metadata": {},
   "source": [
    "Perform VQPCA clustering of the centered and scaled dataset $\\mathbf{X}$ into 4 clusters:"
   ]
  },
  {
   "cell_type": "code",
   "execution_count": null,
   "metadata": {},
   "outputs": [],
   "source": [
    "# Complete the VQPCA clustering steps:\n",
    "\n",
    "# VQPCA_X = \n",
    "# idx_VQPCA_X = "
   ]
  },
  {
   "cell_type": "markdown",
   "metadata": {},
   "source": [
    "Visualize the result of clustering in the mixture fraction and temperature space:"
   ]
  },
  {
   "cell_type": "code",
   "execution_count": null,
   "metadata": {},
   "outputs": [],
   "source": [
    "fig = plt.figure(figsize=(20,5))\n",
    "\n",
    "# Create a scatter plot of the clustering solution\n",
    "# ...\n",
    "\n",
    "plt.xlabel('Mixture fraction [-]', fontsize=20)\n",
    "plt.ylabel('Temperature [K]', fontsize=20)\n",
    "plt.colorbar(scat, ticks=[0,1,2,3]);"
   ]
  },
  {
   "cell_type": "markdown",
   "metadata": {},
   "source": [
    "Go back to the `clustering_settings` dictionary and play with changing the number of clusters and the number of eigenvectors.\n",
    "\n",
    "Are the differences in clustering solution subtle or significant?"
   ]
  },
  {
   "cell_type": "markdown",
   "metadata": {},
   "source": [
    "### Reading and interpretating the results\n",
    "\n",
    "What are the difference among the clustering with KMeans and VQPCA?"
   ]
  }
 ],
 "metadata": {
  "kernelspec": {
   "display_name": "Python 3 (ipykernel)",
   "language": "python",
   "name": "python3"
  },
  "language_info": {
   "codemirror_mode": {
    "name": "ipython",
    "version": 3
   },
   "file_extension": ".py",
   "mimetype": "text/x-python",
   "name": "python",
   "nbconvert_exporter": "python",
   "pygments_lexer": "ipython3",
   "version": "3.9.18"
  }
 },
 "nbformat": 4,
 "nbformat_minor": 4
}
